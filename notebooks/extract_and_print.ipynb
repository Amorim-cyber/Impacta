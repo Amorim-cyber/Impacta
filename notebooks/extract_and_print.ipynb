{
 "cells": [
  {
   "cell_type": "markdown",
   "metadata": {},
   "source": [
    "## Trabalho BITCOIN EM DOLARES\n",
    "\n",
    "Este projeto tem como finalidade saber o valor da moeda virtual Bitcoin em Dolar (USD).<br> \n",
    "Ou seja, queremos saber quantos Dolares são necessários para se adquirir 1 Bitcoin.\n",
    "\n",
    "O processo será dividido em 3 passos:\n",
    "\n",
    "1. Extração dos recursos\n",
    "2. Cálculo \n",
    "3. Visualização do resultado\n",
    "\n",
    "#### Como vamos elaborar o projeto ?\n",
    "\n",
    "Conforme solicitado vamos montar o projeto em um Jupyter Notebook dentro de um<br>subsistema \n",
    "local Linux dentro do Windows (WSL). \n",
    "Para edição e execução usaremos a IDE<br> do Visual Studios Code. \n"
   ]
  },
  {
   "cell_type": "markdown",
   "metadata": {},
   "source": [
    "#### 1. Extração dos recursos\n",
    "\n",
    "Para chegarmos aos resultado final precisamos pegar os valores do <b style=\"color:#F0F8FF\">bitcoin em Reais (R$)</b><br> e do <b style=\"color:#F0F8FF\">Dolar em Reais (R$)</b>.\n",
    "\n",
    "Optei por pegar os valores no site do Google finance utilizando a biblioteca do `BeautifulSoup`.<br>Além disso vamos precisar da lib `requests` para as requisições HTTP. Para algumas abordagens<br> também foi importado a ferramenta de manipulação de strings `regex`.\n",
    "\n",
    "Segue abaixo os códigos para a extração dos valores web.\n",
    "\n",
    "<b>ABORDAGEM 1:</b>\n",
    "\n",
    "Os valores estão sendo extraidos por meio dos métodos REGEXs.\n",
    "\n",
    "* POSSÍVEIS VANTAGENS: Se a página não muda muito o layout ou/e muda com frequência<br> os atributos de identificação (tags / class / id), não haverá manutenção recorrente<br> do código.\n",
    "\n",
    "* POSSÍVEIS DESVANTAGENS: Grandes variações nos valores de um dia<br> para o outro ao ponto de alterar suas casas decimais. Mudanças no layoff do site podem <br>fazer com que os valores desejados não sejam os primeiros na lista de busca."
   ]
  },
  {
   "cell_type": "code",
   "execution_count": 12,
   "metadata": {},
   "outputs": [],
   "source": [
    "from bs4 import BeautifulSoup\n",
    "import requests\n",
    "import re #regex\n",
    "\n",
    "def get_usd_brl():\n",
    "\n",
    "    url = f\"https://www.google.com/finance/quote/USD-BRL\"\n",
    "    page = requests.get(url)\n",
    "    soup = BeautifulSoup(page.content, \"html.parser\")\n",
    "    main_content = str(soup.find('body').contents)\n",
    "\n",
    "    processes_filtered = re.findall(\"\\d\\.\\d\\d\\d\\d\",main_content)\n",
    "    return processes_filtered[0]\n",
    "\n",
    "\n",
    "def get_btc_brl():\n",
    "\n",
    "    url = f\"https://www.google.com/finance/quote/BTC-BRL\"\n",
    "    page = requests.get(url)\n",
    "    soup = BeautifulSoup(page.content, \"html.parser\")\n",
    "    main_content = str(soup.find('body').contents)\n",
    "\n",
    "    processes_filtered = re.findall(\"\\d\\d\\d,\\d\\d\\d\\.\\d\\d\",main_content)\n",
    "    return processes_filtered[0]\n",
    "\n",
    "values = [\n",
    "\n",
    "    get_btc_brl(),\n",
    "    get_usd_brl()\n",
    "\n",
    "]\n"
   ]
  },
  {
   "cell_type": "markdown",
   "metadata": {},
   "source": [
    "<b>ABORDAGEM 2:</b>\n",
    "\n",
    "A busca dos dados é feita chamando a `tag` e `class` do elemento WEB.\n",
    "\n",
    "* POSSÍVEIS VANTAGENS: Teremos mais certeza de que o código esta trazendo<br> o dado correto.\n",
    "\n",
    "* POSSÍVEIS DESVANTAGENS: Manutenção constante do código.\n"
   ]
  },
  {
   "cell_type": "code",
   "execution_count": 13,
   "metadata": {},
   "outputs": [],
   "source": [
    "from bs4 import BeautifulSoup\n",
    "import requests\n",
    "\n",
    "exchanges = [\"BTC-BRL\",\"USD-BRL\"]\n",
    "tag = \"div\"\n",
    "class_ = \"YMlKec fxKbKc\"\n",
    "\n",
    "values = []\n",
    "\n",
    "for exchange in exchanges:\n",
    "    url = f\"https://www.google.com/finance/quote/{exchange}\"\n",
    "    page = requests.get(url)\n",
    "    soup = BeautifulSoup(page.content, \"html.parser\")\n",
    "    content = soup.find_all(tag,class_ = class_)[0].text\n",
    "    values.append(content)\n",
    "\n",
    "    "
   ]
  },
  {
   "cell_type": "markdown",
   "metadata": {},
   "source": [
    "#### 2. Cálculo\n",
    "\n",
    "Nesta etapa não tem muito mistério, temos 2 valores que são resultados da razão<br> entre unidades monetárias distintas:\n",
    "\n",
    "1. Bitcon / Real\n",
    "2. Dolar / Real\n",
    "\n",
    "Mas podemos notar que ambas as razões possuem a unidade monetária Real.\n",
    "\n",
    "Se usarmos álgebra, encontraremos o valor do Bitcoin em Dolar. \n",
    "\n",
    "<img src=\"../img/calculo.png\">\n",
    "\n",
    "Portanto nós conseguimos afirmar que o valor do <b style=\"color:#F0F8FF\">Bitcoin em Dolar</b> corresponde a divisão<br> do Bitcoin em Real com o Dolar em real.\n",
    "\n",
    "O cálculo em python pode ser visto logo abaixo:\n"
   ]
  },
  {
   "cell_type": "code",
   "execution_count": 14,
   "metadata": {},
   "outputs": [],
   "source": [
    "v1 = float(values[0].replace(\",\",\"\"))\n",
    "v2 = float(values[1])\n",
    "\n",
    "v3 = v1 / v2"
   ]
  },
  {
   "cell_type": "markdown",
   "metadata": {},
   "source": [
    "#### 3. Visualização do resultado\n",
    "\n",
    "Chegamos a parte final do projeto, nesta etapa apenas mostramos os resultados dos<br> valores. A visualização acontecerá no console do terminal. \n",
    "\n",
    "Vale mencionar que os valores que foram trazidos da internet estão no padrão norte americano.<br> Para transforma-los no padrão brasileiro, importei a biblioteca `locale` e o formato foi alterado.\n",
    "\n",
    "Segue abaixo o código de visualização:"
   ]
  },
  {
   "cell_type": "code",
   "execution_count": 16,
   "metadata": {},
   "outputs": [
    {
     "name": "stdout",
     "output_type": "stream",
     "text": [
      "\n",
      "        Valores extraidos da internet:\n",
      "\n",
      "        Bitcoin em Reais = R$ 196.526,53\n",
      "\n",
      "        Dolar em Reais = R$ 4,91\n",
      "\n",
      "        \n",
      "\n",
      "        RESULTADO:\n",
      "\n",
      "        Bitcoin em Dolar = $ 40.005,40\n",
      "\n",
      "    \n"
     ]
    }
   ],
   "source": [
    "import locale\n",
    "\n",
    "locale.setlocale(locale.LC_ALL,\"pt_BR.UTF-8\")\n",
    "\n",
    "V1 = locale.currency(v1, grouping=True, symbol=None)\n",
    "V2 = locale.currency(v2, grouping=True, symbol=None)\n",
    "V3 = locale.currency(v3, grouping=True, symbol=None)\n",
    "\n",
    "print(\n",
    "    f\"\"\"\n",
    "        Valores extraidos da internet:\\n\n",
    "        Bitcoin em Reais = R$ {V1}\\n\n",
    "        Dolar em Reais = R$ {V2}\\n\n",
    "        \\n\n",
    "        RESULTADO:\\n\n",
    "        Bitcoin em Dolar = $ {V3}\n",
    "\n",
    "    \"\"\"\n",
    ")"
   ]
  },
  {
   "cell_type": "markdown",
   "metadata": {},
   "source": [
    "\n",
    "OBS: Pode ser que precise alterar a linguagem do seu sistema caso queira rodar o código acima.\n",
    "\n",
    "#### EXTRA: gifs demonstrativos\n",
    "\n",
    "Com o intuito de mostrar a funcionalidade do projeto, inclui abaixo dois gifs:\n",
    "\n",
    "* O primeiro gif mostra a execução do projeto no notebook.\n",
    "* O segundo gif mostra as duas abordagens sendo executados via terminal.\n",
    "\n",
    "<b>GIF 1:</b><br><br>\n",
    "<img src=\"../img/terminal2.GIF\">\n",
    "<br><br>\n",
    "<b>GIF 2:</b><br><br>\n",
    "<img src=\"../img/terminal.GIF\">"
   ]
  }
 ],
 "metadata": {
  "kernelspec": {
   "display_name": "venv",
   "language": "python",
   "name": "python3"
  },
  "language_info": {
   "codemirror_mode": {
    "name": "ipython",
    "version": 3
   },
   "file_extension": ".py",
   "mimetype": "text/x-python",
   "name": "python",
   "nbconvert_exporter": "python",
   "pygments_lexer": "ipython3",
   "version": "3.10.12"
  }
 },
 "nbformat": 4,
 "nbformat_minor": 2
}
